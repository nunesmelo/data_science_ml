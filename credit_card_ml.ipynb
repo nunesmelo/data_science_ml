{
 "cells": [
  {
   "cell_type": "markdown",
   "id": "cae6c929",
   "metadata": {},
   "source": [
    "## Solicitação de cartão de crédito"
   ]
  },
  {
   "cell_type": "markdown",
   "id": "f75728db",
   "metadata": {},
   "source": [
    "## 1.Definindo Problema\n",
    "<p> Os bancos recebem <em>muitas<em> solicitações de cartão de crédito. Os bancos têm a sua disposição várias características dos clientes que os ajudam a tomar uma decisção em relação a se devem ou não aceitar a solicitação. Dado ao grande volume de dados, é caro e demorado analisar esses dados manualmente. Dado essa problemática, nosso objetivo é otimizar essa atividade: Prever a aprovação de cartão de crédito para determinado cliente usando técnicas de machine learning.<p>\n",
    "<p> Para isso usamos o <a href=\"http://archive.ics.uci.edu/ml/datasets/credit+approval\">Credit Card Approval dataset</a> tirado do repositório de Machine Learning da UCI.<p>"
   ]
  },
  {
   "cell_type": "markdown",
   "id": "9de51db8",
   "metadata": {},
   "source": [
    "## 2.Planejamento de solução\n",
    "<p><p>\n",
    "<li>Carregar os dados e observamos os dados, procurando por inconsistências, tipos de dados diferentes do que os desejados, dados faltando e faixa de valores diferentes entre as variáveis<p>\n",
    "<li> Dividir os dados em dados de treino e dados de teste. Esse passo deve ser feito antes do pré processamento, pois os dados de teste não devem influenciar os valores preenchidos dos dados de treino. Por exemplos: Se vamos preencher valores faltando com a média da coluna, é importante que essa média seja calculada usando somenteo os dados de treino. Dessa forma, nenhuma informação dos dados de testes passarão pelo algoritmo de machine learning durante o treino, e o teste será mais fiel, e estará sendo realizados por dados nunca vistos antes pelo código, mesmo que seja através de médias ou outros agregadores.\n",
    "<li>Pré-processar os dados. Mudar os dtypes necessários, preencher os dados faltando, ou eliminar colunas/linhas desnecessárias<p>\n",
    "<li>Com os dados bem tratados, fazer uma análise exploratória dos dados, plotando gráficos e tabelas para ganhar intuição a cerca dos dados e do problema <p>\n",
    "<li>Aplicar algoritmo de machine learning para determinar se um cliente terá seu cartão aprovado com base nos seus atributos<p>    "
   ]
  },
  {
   "cell_type": "markdown",
   "id": "6c9df8df",
   "metadata": {},
   "source": [
    "## 3.Carregando e limpando os dados"
   ]
  },
  {
   "cell_type": "code",
   "execution_count": 305,
   "id": "61162750",
   "metadata": {},
   "outputs": [],
   "source": [
    "import pandas as pd\n",
    "import numpy as np\n",
    "import seaborn as sns\n",
    "import matplotlib.pyplot as plt\n",
    "import statsmodels.formula.api as smf"
   ]
  },
  {
   "cell_type": "code",
   "execution_count": 5,
   "id": "d96003df",
   "metadata": {},
   "outputs": [
    {
     "data": {
      "text/html": [
       "<div>\n",
       "<style scoped>\n",
       "    .dataframe tbody tr th:only-of-type {\n",
       "        vertical-align: middle;\n",
       "    }\n",
       "\n",
       "    .dataframe tbody tr th {\n",
       "        vertical-align: top;\n",
       "    }\n",
       "\n",
       "    .dataframe thead th {\n",
       "        text-align: right;\n",
       "    }\n",
       "</style>\n",
       "<table border=\"1\" class=\"dataframe\">\n",
       "  <thead>\n",
       "    <tr style=\"text-align: right;\">\n",
       "      <th></th>\n",
       "      <th>0</th>\n",
       "      <th>1</th>\n",
       "      <th>2</th>\n",
       "      <th>3</th>\n",
       "      <th>4</th>\n",
       "      <th>5</th>\n",
       "      <th>6</th>\n",
       "      <th>7</th>\n",
       "      <th>8</th>\n",
       "      <th>9</th>\n",
       "      <th>10</th>\n",
       "      <th>11</th>\n",
       "      <th>12</th>\n",
       "      <th>13</th>\n",
       "      <th>14</th>\n",
       "      <th>15</th>\n",
       "    </tr>\n",
       "  </thead>\n",
       "  <tbody>\n",
       "    <tr>\n",
       "      <th>0</th>\n",
       "      <td>b</td>\n",
       "      <td>30.83</td>\n",
       "      <td>0.000</td>\n",
       "      <td>u</td>\n",
       "      <td>g</td>\n",
       "      <td>w</td>\n",
       "      <td>v</td>\n",
       "      <td>1.25</td>\n",
       "      <td>t</td>\n",
       "      <td>t</td>\n",
       "      <td>1</td>\n",
       "      <td>f</td>\n",
       "      <td>g</td>\n",
       "      <td>00202</td>\n",
       "      <td>0</td>\n",
       "      <td>+</td>\n",
       "    </tr>\n",
       "    <tr>\n",
       "      <th>1</th>\n",
       "      <td>a</td>\n",
       "      <td>58.67</td>\n",
       "      <td>4.460</td>\n",
       "      <td>u</td>\n",
       "      <td>g</td>\n",
       "      <td>q</td>\n",
       "      <td>h</td>\n",
       "      <td>3.04</td>\n",
       "      <td>t</td>\n",
       "      <td>t</td>\n",
       "      <td>6</td>\n",
       "      <td>f</td>\n",
       "      <td>g</td>\n",
       "      <td>00043</td>\n",
       "      <td>560</td>\n",
       "      <td>+</td>\n",
       "    </tr>\n",
       "    <tr>\n",
       "      <th>2</th>\n",
       "      <td>a</td>\n",
       "      <td>24.50</td>\n",
       "      <td>0.500</td>\n",
       "      <td>u</td>\n",
       "      <td>g</td>\n",
       "      <td>q</td>\n",
       "      <td>h</td>\n",
       "      <td>1.50</td>\n",
       "      <td>t</td>\n",
       "      <td>f</td>\n",
       "      <td>0</td>\n",
       "      <td>f</td>\n",
       "      <td>g</td>\n",
       "      <td>00280</td>\n",
       "      <td>824</td>\n",
       "      <td>+</td>\n",
       "    </tr>\n",
       "    <tr>\n",
       "      <th>3</th>\n",
       "      <td>b</td>\n",
       "      <td>27.83</td>\n",
       "      <td>1.540</td>\n",
       "      <td>u</td>\n",
       "      <td>g</td>\n",
       "      <td>w</td>\n",
       "      <td>v</td>\n",
       "      <td>3.75</td>\n",
       "      <td>t</td>\n",
       "      <td>t</td>\n",
       "      <td>5</td>\n",
       "      <td>t</td>\n",
       "      <td>g</td>\n",
       "      <td>00100</td>\n",
       "      <td>3</td>\n",
       "      <td>+</td>\n",
       "    </tr>\n",
       "    <tr>\n",
       "      <th>4</th>\n",
       "      <td>b</td>\n",
       "      <td>20.17</td>\n",
       "      <td>5.625</td>\n",
       "      <td>u</td>\n",
       "      <td>g</td>\n",
       "      <td>w</td>\n",
       "      <td>v</td>\n",
       "      <td>1.71</td>\n",
       "      <td>t</td>\n",
       "      <td>f</td>\n",
       "      <td>0</td>\n",
       "      <td>f</td>\n",
       "      <td>s</td>\n",
       "      <td>00120</td>\n",
       "      <td>0</td>\n",
       "      <td>+</td>\n",
       "    </tr>\n",
       "    <tr>\n",
       "      <th>...</th>\n",
       "      <td>...</td>\n",
       "      <td>...</td>\n",
       "      <td>...</td>\n",
       "      <td>...</td>\n",
       "      <td>...</td>\n",
       "      <td>...</td>\n",
       "      <td>...</td>\n",
       "      <td>...</td>\n",
       "      <td>...</td>\n",
       "      <td>...</td>\n",
       "      <td>...</td>\n",
       "      <td>...</td>\n",
       "      <td>...</td>\n",
       "      <td>...</td>\n",
       "      <td>...</td>\n",
       "      <td>...</td>\n",
       "    </tr>\n",
       "    <tr>\n",
       "      <th>685</th>\n",
       "      <td>b</td>\n",
       "      <td>21.08</td>\n",
       "      <td>10.085</td>\n",
       "      <td>y</td>\n",
       "      <td>p</td>\n",
       "      <td>e</td>\n",
       "      <td>h</td>\n",
       "      <td>1.25</td>\n",
       "      <td>f</td>\n",
       "      <td>f</td>\n",
       "      <td>0</td>\n",
       "      <td>f</td>\n",
       "      <td>g</td>\n",
       "      <td>00260</td>\n",
       "      <td>0</td>\n",
       "      <td>-</td>\n",
       "    </tr>\n",
       "    <tr>\n",
       "      <th>686</th>\n",
       "      <td>a</td>\n",
       "      <td>22.67</td>\n",
       "      <td>0.750</td>\n",
       "      <td>u</td>\n",
       "      <td>g</td>\n",
       "      <td>c</td>\n",
       "      <td>v</td>\n",
       "      <td>2.00</td>\n",
       "      <td>f</td>\n",
       "      <td>t</td>\n",
       "      <td>2</td>\n",
       "      <td>t</td>\n",
       "      <td>g</td>\n",
       "      <td>00200</td>\n",
       "      <td>394</td>\n",
       "      <td>-</td>\n",
       "    </tr>\n",
       "    <tr>\n",
       "      <th>687</th>\n",
       "      <td>a</td>\n",
       "      <td>25.25</td>\n",
       "      <td>13.500</td>\n",
       "      <td>y</td>\n",
       "      <td>p</td>\n",
       "      <td>ff</td>\n",
       "      <td>ff</td>\n",
       "      <td>2.00</td>\n",
       "      <td>f</td>\n",
       "      <td>t</td>\n",
       "      <td>1</td>\n",
       "      <td>t</td>\n",
       "      <td>g</td>\n",
       "      <td>00200</td>\n",
       "      <td>1</td>\n",
       "      <td>-</td>\n",
       "    </tr>\n",
       "    <tr>\n",
       "      <th>688</th>\n",
       "      <td>b</td>\n",
       "      <td>17.92</td>\n",
       "      <td>0.205</td>\n",
       "      <td>u</td>\n",
       "      <td>g</td>\n",
       "      <td>aa</td>\n",
       "      <td>v</td>\n",
       "      <td>0.04</td>\n",
       "      <td>f</td>\n",
       "      <td>f</td>\n",
       "      <td>0</td>\n",
       "      <td>f</td>\n",
       "      <td>g</td>\n",
       "      <td>00280</td>\n",
       "      <td>750</td>\n",
       "      <td>-</td>\n",
       "    </tr>\n",
       "    <tr>\n",
       "      <th>689</th>\n",
       "      <td>b</td>\n",
       "      <td>35.00</td>\n",
       "      <td>3.375</td>\n",
       "      <td>u</td>\n",
       "      <td>g</td>\n",
       "      <td>c</td>\n",
       "      <td>h</td>\n",
       "      <td>8.29</td>\n",
       "      <td>f</td>\n",
       "      <td>f</td>\n",
       "      <td>0</td>\n",
       "      <td>t</td>\n",
       "      <td>g</td>\n",
       "      <td>00000</td>\n",
       "      <td>0</td>\n",
       "      <td>-</td>\n",
       "    </tr>\n",
       "  </tbody>\n",
       "</table>\n",
       "<p>690 rows × 16 columns</p>\n",
       "</div>"
      ],
      "text/plain": [
       "    0      1       2  3  4   5   6     7  8  9   10 11 12     13   14 15\n",
       "0    b  30.83   0.000  u  g   w   v  1.25  t  t   1  f  g  00202    0  +\n",
       "1    a  58.67   4.460  u  g   q   h  3.04  t  t   6  f  g  00043  560  +\n",
       "2    a  24.50   0.500  u  g   q   h  1.50  t  f   0  f  g  00280  824  +\n",
       "3    b  27.83   1.540  u  g   w   v  3.75  t  t   5  t  g  00100    3  +\n",
       "4    b  20.17   5.625  u  g   w   v  1.71  t  f   0  f  s  00120    0  +\n",
       "..  ..    ...     ... .. ..  ..  ..   ... .. ..  .. .. ..    ...  ... ..\n",
       "685  b  21.08  10.085  y  p   e   h  1.25  f  f   0  f  g  00260    0  -\n",
       "686  a  22.67   0.750  u  g   c   v  2.00  f  t   2  t  g  00200  394  -\n",
       "687  a  25.25  13.500  y  p  ff  ff  2.00  f  t   1  t  g  00200    1  -\n",
       "688  b  17.92   0.205  u  g  aa   v  0.04  f  f   0  f  g  00280  750  -\n",
       "689  b  35.00   3.375  u  g   c   h  8.29  f  f   0  t  g  00000    0  -\n",
       "\n",
       "[690 rows x 16 columns]"
      ]
     },
     "execution_count": 5,
     "metadata": {},
     "output_type": "execute_result"
    }
   ],
   "source": [
    "caminho = r'C:\\Users\\fisicamedica.LIGA\\OneDrive - LIGA\\Área de Trabalho\\Mateus\\credit-card-ml-master\\cc_approvals.data'\n",
    "cc_apps = pd.read_csv(caminho, header = None)\n",
    "cc_apps"
   ]
  },
  {
   "cell_type": "markdown",
   "id": "a112c8e8",
   "metadata": {},
   "source": [
    "<font size=\"3\"><p>Os dados não são muito intuitivos, não existe indicação para as colunas. Como os dados são clientes reais de bancos, provavelmente foram anonimizados. Porém, <a href=\"http://rstudio-pubs-static.s3.amazonaws.com/73039_9946de135c0a49daa7a0a9eda4a67a72.html\">nesse blog</a> encontramos dicas do que as variáveis podem significar. Usaremos essas dicas como referência para renomear os dados e entender o que significa cada valor categórico.<p>"
   ]
  },
  {
   "cell_type": "markdown",
   "id": "a7ada62e",
   "metadata": {},
   "source": [
    "<font size=\"3\"><p>Referencia para nome das variáveis:<p>"
   ]
  },
  {
   "cell_type": "raw",
   "id": "7139e5bb",
   "metadata": {},
   "source": [
    "# 'data.frame':   689 obs. of  16 variables:\n",
    " $ Male          : num  1 1 0 0 0 0 1 0 0 0 ...\n",
    " $ Age           : chr  \"58.67\" \"24.50\" \"27.83\" \"20.17\" ...\n",
    " $ Debt          : num  4.46 0.5 1.54 5.62 4 ...\n",
    " $ Married       : chr  \"u\" \"u\" \"u\" \"u\" ...\n",
    " $ BankCustomer  : chr  \"g\" \"g\" \"g\" \"g\" ...\n",
    " $ EducationLevel: chr  \"q\" \"q\" \"w\" \"w\" ...\n",
    " $ Ethnicity     : chr  \"h\" \"h\" \"v\" \"v\" ...\n",
    " $ YearsEmployed : num  3.04 1.5 3.75 1.71 2.5 ...\n",
    " $ PriorDefault  : num  1 1 1 1 1 1 1 1 1 0 ...\n",
    " $ Employed      : num  1 0 1 0 0 0 0 0 0 0 ...\n",
    " $ CreditScore   : num  6 0 5 0 0 0 0 0 0 0 ...\n",
    " $ DriversLicense: chr  \"f\" \"f\" \"t\" \"f\" ...\n",
    " $ Citizen       : chr  \"g\" \"g\" \"g\" \"s\" ...\n",
    " $ ZipCode       : chr  \"00043\" \"00280\" \"00100\" \"00120\" ...\n",
    " $ Income        : num  560 824 3 0 0 ...\n",
    " $ Approved      : chr  \"+\" \"+\" \"+\" \"+\" ..."
   ]
  },
  {
   "cell_type": "code",
   "execution_count": 6,
   "id": "e426bb0a",
   "metadata": {
    "scrolled": true
   },
   "outputs": [
    {
     "data": {
      "text/html": [
       "<div>\n",
       "<style scoped>\n",
       "    .dataframe tbody tr th:only-of-type {\n",
       "        vertical-align: middle;\n",
       "    }\n",
       "\n",
       "    .dataframe tbody tr th {\n",
       "        vertical-align: top;\n",
       "    }\n",
       "\n",
       "    .dataframe thead th {\n",
       "        text-align: right;\n",
       "    }\n",
       "</style>\n",
       "<table border=\"1\" class=\"dataframe\">\n",
       "  <thead>\n",
       "    <tr style=\"text-align: right;\">\n",
       "      <th></th>\n",
       "      <th>sexo</th>\n",
       "      <th>idade</th>\n",
       "      <th>divida</th>\n",
       "      <th>casado</th>\n",
       "      <th>cliente_banco</th>\n",
       "      <th>educ_nivel</th>\n",
       "      <th>raça</th>\n",
       "      <th>anos_empregado</th>\n",
       "      <th>divida_anterior</th>\n",
       "      <th>empregado</th>\n",
       "      <th>score</th>\n",
       "      <th>carteira_motorista</th>\n",
       "      <th>cidadania</th>\n",
       "      <th>zip</th>\n",
       "      <th>renda</th>\n",
       "      <th>aprovado</th>\n",
       "    </tr>\n",
       "  </thead>\n",
       "  <tbody>\n",
       "    <tr>\n",
       "      <th>0</th>\n",
       "      <td>b</td>\n",
       "      <td>30.83</td>\n",
       "      <td>0.000</td>\n",
       "      <td>u</td>\n",
       "      <td>g</td>\n",
       "      <td>w</td>\n",
       "      <td>v</td>\n",
       "      <td>1.25</td>\n",
       "      <td>t</td>\n",
       "      <td>t</td>\n",
       "      <td>1</td>\n",
       "      <td>f</td>\n",
       "      <td>g</td>\n",
       "      <td>00202</td>\n",
       "      <td>0</td>\n",
       "      <td>+</td>\n",
       "    </tr>\n",
       "    <tr>\n",
       "      <th>1</th>\n",
       "      <td>a</td>\n",
       "      <td>58.67</td>\n",
       "      <td>4.460</td>\n",
       "      <td>u</td>\n",
       "      <td>g</td>\n",
       "      <td>q</td>\n",
       "      <td>h</td>\n",
       "      <td>3.04</td>\n",
       "      <td>t</td>\n",
       "      <td>t</td>\n",
       "      <td>6</td>\n",
       "      <td>f</td>\n",
       "      <td>g</td>\n",
       "      <td>00043</td>\n",
       "      <td>560</td>\n",
       "      <td>+</td>\n",
       "    </tr>\n",
       "    <tr>\n",
       "      <th>2</th>\n",
       "      <td>a</td>\n",
       "      <td>24.50</td>\n",
       "      <td>0.500</td>\n",
       "      <td>u</td>\n",
       "      <td>g</td>\n",
       "      <td>q</td>\n",
       "      <td>h</td>\n",
       "      <td>1.50</td>\n",
       "      <td>t</td>\n",
       "      <td>f</td>\n",
       "      <td>0</td>\n",
       "      <td>f</td>\n",
       "      <td>g</td>\n",
       "      <td>00280</td>\n",
       "      <td>824</td>\n",
       "      <td>+</td>\n",
       "    </tr>\n",
       "    <tr>\n",
       "      <th>3</th>\n",
       "      <td>b</td>\n",
       "      <td>27.83</td>\n",
       "      <td>1.540</td>\n",
       "      <td>u</td>\n",
       "      <td>g</td>\n",
       "      <td>w</td>\n",
       "      <td>v</td>\n",
       "      <td>3.75</td>\n",
       "      <td>t</td>\n",
       "      <td>t</td>\n",
       "      <td>5</td>\n",
       "      <td>t</td>\n",
       "      <td>g</td>\n",
       "      <td>00100</td>\n",
       "      <td>3</td>\n",
       "      <td>+</td>\n",
       "    </tr>\n",
       "    <tr>\n",
       "      <th>4</th>\n",
       "      <td>b</td>\n",
       "      <td>20.17</td>\n",
       "      <td>5.625</td>\n",
       "      <td>u</td>\n",
       "      <td>g</td>\n",
       "      <td>w</td>\n",
       "      <td>v</td>\n",
       "      <td>1.71</td>\n",
       "      <td>t</td>\n",
       "      <td>f</td>\n",
       "      <td>0</td>\n",
       "      <td>f</td>\n",
       "      <td>s</td>\n",
       "      <td>00120</td>\n",
       "      <td>0</td>\n",
       "      <td>+</td>\n",
       "    </tr>\n",
       "  </tbody>\n",
       "</table>\n",
       "</div>"
      ],
      "text/plain": [
       "  sexo  idade  divida casado cliente_banco educ_nivel raça  anos_empregado  \\\n",
       "0    b  30.83   0.000      u             g          w    v            1.25   \n",
       "1    a  58.67   4.460      u             g          q    h            3.04   \n",
       "2    a  24.50   0.500      u             g          q    h            1.50   \n",
       "3    b  27.83   1.540      u             g          w    v            3.75   \n",
       "4    b  20.17   5.625      u             g          w    v            1.71   \n",
       "\n",
       "  divida_anterior empregado  score carteira_motorista cidadania    zip  renda  \\\n",
       "0               t         t      1                  f         g  00202      0   \n",
       "1               t         t      6                  f         g  00043    560   \n",
       "2               t         f      0                  f         g  00280    824   \n",
       "3               t         t      5                  t         g  00100      3   \n",
       "4               t         f      0                  f         s  00120      0   \n",
       "\n",
       "  aprovado  \n",
       "0        +  \n",
       "1        +  \n",
       "2        +  \n",
       "3        +  \n",
       "4        +  "
      ]
     },
     "execution_count": 6,
     "metadata": {},
     "output_type": "execute_result"
    }
   ],
   "source": [
    "# As 15 primeiras colunas são os atributos que determinam se um cliente terá ou não seu cartão aprovado. \n",
    "# Enquanto a última coluna é a variável que indica se o cartão foi ou não aprovado para o cliente representado em cada linha.\n",
    "colunas = ['sexo','idade','divida','casado','cliente_banco','educ_nivel','raça','anos_empregado','divida_anterior','empregado',\n",
    "          'score','carteira_motorista','cidadania','zip','renda','aprovado']\n",
    "cc_apps.columns = colunas\n",
    "cc_apps.head()"
   ]
  },
  {
   "cell_type": "code",
   "execution_count": 7,
   "id": "abeb2688",
   "metadata": {
    "scrolled": true
   },
   "outputs": [
    {
     "data": {
      "text/html": [
       "<div>\n",
       "<style scoped>\n",
       "    .dataframe tbody tr th:only-of-type {\n",
       "        vertical-align: middle;\n",
       "    }\n",
       "\n",
       "    .dataframe tbody tr th {\n",
       "        vertical-align: top;\n",
       "    }\n",
       "\n",
       "    .dataframe thead th {\n",
       "        text-align: right;\n",
       "    }\n",
       "</style>\n",
       "<table border=\"1\" class=\"dataframe\">\n",
       "  <thead>\n",
       "    <tr style=\"text-align: right;\">\n",
       "      <th></th>\n",
       "      <th>divida</th>\n",
       "      <th>anos_empregado</th>\n",
       "      <th>score</th>\n",
       "      <th>renda</th>\n",
       "    </tr>\n",
       "  </thead>\n",
       "  <tbody>\n",
       "    <tr>\n",
       "      <th>count</th>\n",
       "      <td>690.000000</td>\n",
       "      <td>690.000000</td>\n",
       "      <td>690.00000</td>\n",
       "      <td>690.000000</td>\n",
       "    </tr>\n",
       "    <tr>\n",
       "      <th>mean</th>\n",
       "      <td>4.758725</td>\n",
       "      <td>2.223406</td>\n",
       "      <td>2.40000</td>\n",
       "      <td>1017.385507</td>\n",
       "    </tr>\n",
       "    <tr>\n",
       "      <th>std</th>\n",
       "      <td>4.978163</td>\n",
       "      <td>3.346513</td>\n",
       "      <td>4.86294</td>\n",
       "      <td>5210.102598</td>\n",
       "    </tr>\n",
       "    <tr>\n",
       "      <th>min</th>\n",
       "      <td>0.000000</td>\n",
       "      <td>0.000000</td>\n",
       "      <td>0.00000</td>\n",
       "      <td>0.000000</td>\n",
       "    </tr>\n",
       "    <tr>\n",
       "      <th>25%</th>\n",
       "      <td>1.000000</td>\n",
       "      <td>0.165000</td>\n",
       "      <td>0.00000</td>\n",
       "      <td>0.000000</td>\n",
       "    </tr>\n",
       "    <tr>\n",
       "      <th>50%</th>\n",
       "      <td>2.750000</td>\n",
       "      <td>1.000000</td>\n",
       "      <td>0.00000</td>\n",
       "      <td>5.000000</td>\n",
       "    </tr>\n",
       "    <tr>\n",
       "      <th>75%</th>\n",
       "      <td>7.207500</td>\n",
       "      <td>2.625000</td>\n",
       "      <td>3.00000</td>\n",
       "      <td>395.500000</td>\n",
       "    </tr>\n",
       "    <tr>\n",
       "      <th>max</th>\n",
       "      <td>28.000000</td>\n",
       "      <td>28.500000</td>\n",
       "      <td>67.00000</td>\n",
       "      <td>100000.000000</td>\n",
       "    </tr>\n",
       "  </tbody>\n",
       "</table>\n",
       "</div>"
      ],
      "text/plain": [
       "           divida  anos_empregado      score          renda\n",
       "count  690.000000      690.000000  690.00000     690.000000\n",
       "mean     4.758725        2.223406    2.40000    1017.385507\n",
       "std      4.978163        3.346513    4.86294    5210.102598\n",
       "min      0.000000        0.000000    0.00000       0.000000\n",
       "25%      1.000000        0.165000    0.00000       0.000000\n",
       "50%      2.750000        1.000000    0.00000       5.000000\n",
       "75%      7.207500        2.625000    3.00000     395.500000\n",
       "max     28.000000       28.500000   67.00000  100000.000000"
      ]
     },
     "execution_count": 7,
     "metadata": {},
     "output_type": "execute_result"
    }
   ],
   "source": [
    "# Descrição dos atributos numéricos\n",
    "cc_apps.describe()"
   ]
  },
  {
   "cell_type": "code",
   "execution_count": 8,
   "id": "33b1f374",
   "metadata": {},
   "outputs": [],
   "source": [
    "# Aqui dividimos os dados, de forma aleatória, com 33% para teste e o restante para treino. random_state=42 garante que o sorteio\n",
    "# só seja feito na primeira vez que rodamos o código, garantindo consistência.\n",
    "from sklearn.model_selection import train_test_split\n",
    "\n",
    "cc_apps_train, cc_apps_test = train_test_split(cc_apps, test_size=0.33, random_state=42)"
   ]
  },
  {
   "cell_type": "code",
   "execution_count": 9,
   "id": "5f746375",
   "metadata": {},
   "outputs": [
    {
     "name": "stdout",
     "output_type": "stream",
     "text": [
      "<class 'pandas.core.frame.DataFrame'>\n",
      "Int64Index: 462 entries, 382 to 102\n",
      "Data columns (total 16 columns):\n",
      " #   Column              Non-Null Count  Dtype  \n",
      "---  ------              --------------  -----  \n",
      " 0   sexo                462 non-null    object \n",
      " 1   idade               462 non-null    object \n",
      " 2   divida              462 non-null    float64\n",
      " 3   casado              462 non-null    object \n",
      " 4   cliente_banco       462 non-null    object \n",
      " 5   educ_nivel          462 non-null    object \n",
      " 6   raça                462 non-null    object \n",
      " 7   anos_empregado      462 non-null    float64\n",
      " 8   divida_anterior     462 non-null    object \n",
      " 9   empregado           462 non-null    object \n",
      " 10  score               462 non-null    int64  \n",
      " 11  carteira_motorista  462 non-null    object \n",
      " 12  cidadania           462 non-null    object \n",
      " 13  zip                 462 non-null    object \n",
      " 14  renda               462 non-null    int64  \n",
      " 15  aprovado            462 non-null    object \n",
      "dtypes: float64(2), int64(2), object(12)\n",
      "memory usage: 61.4+ KB\n",
      "b    314\n",
      "a    140\n",
      "?      8\n",
      "Name: sexo, dtype: int64\n",
      "23.58    6\n",
      "23.00    5\n",
      "18.83    5\n",
      "?        5\n",
      "25.00    5\n",
      "        ..\n",
      "25.92    1\n",
      "21.42    1\n",
      "45.83    1\n",
      "49.50    1\n",
      "41.58    1\n",
      "Name: idade, Length: 286, dtype: int64\n"
     ]
    }
   ],
   "source": [
    "# Para investigar as colunas que possuem valores faltando, vamos observar primeiro os tipos dos dados\n",
    "# Se uma coluna numérica está com o tipo 'object', pode ser indicação de que tem algum valor na coluna que impediu \n",
    "# o pandas de identificar aquela coluna como numérica. Por exemplo, uma linha com valor \"sem medida\", '?', '---'\n",
    "\n",
    "# Verificando os tipos dos dados\n",
    "cc_apps_train.info()\n",
    "\n",
    "# Sexo e idade são colunas com valores numéricos, mas que o panda identificou como string\n",
    "print(cc_apps_train['sexo'].value_counts())\n",
    "print(cc_apps_train['idade'].value_counts())\n",
    "\n",
    "# Podemos perceber que valores faltando são representados por '?', substituimos '?' pelo valor np.nan, que possui funções próprias para lidar com ele\n",
    "# Precisamos então definir uma estratégia para substituir valores em cada coluna\n",
    "\n",
    "cc_apps_train = cc_apps_train.replace('?', np.nan)\n",
    "cc_apps_test = cc_apps_test.replace('?', np.nan)"
   ]
  },
  {
   "cell_type": "code",
   "execution_count": 10,
   "id": "c7d2d9d4",
   "metadata": {
    "scrolled": false
   },
   "outputs": [
    {
     "name": "stdout",
     "output_type": "stream",
     "text": [
      "sexo                   8\n",
      "idade                  5\n",
      "divida                 0\n",
      "casado                 6\n",
      "cliente_banco          6\n",
      "educ_nivel             7\n",
      "raça                   7\n",
      "anos_empregado         0\n",
      "divida_anterior        0\n",
      "empregado              0\n",
      "score                  0\n",
      "carteira_motorista     0\n",
      "cidadania              0\n",
      "zip                   12\n",
      "renda                  0\n",
      "aprovado               0\n",
      "dtype: int64\n",
      "sexo                  4\n",
      "idade                 7\n",
      "divida                0\n",
      "casado                0\n",
      "cliente_banco         0\n",
      "educ_nivel            2\n",
      "raça                  2\n",
      "anos_empregado        0\n",
      "divida_anterior       0\n",
      "empregado             0\n",
      "score                 0\n",
      "carteira_motorista    0\n",
      "cidadania             0\n",
      "zip                   1\n",
      "renda                 0\n",
      "aprovado              0\n",
      "dtype: int64\n"
     ]
    }
   ],
   "source": [
    "print(cc_apps_train.isnull().sum())\n",
    "print(cc_apps_test.isnull().sum())"
   ]
  },
  {
   "cell_type": "code",
   "execution_count": 11,
   "id": "98e04200",
   "metadata": {},
   "outputs": [
    {
     "name": "stdout",
     "output_type": "stream",
     "text": [
      "<class 'pandas.core.frame.DataFrame'>\n",
      "Int64Index: 462 entries, 382 to 102\n",
      "Data columns (total 16 columns):\n",
      " #   Column              Non-Null Count  Dtype  \n",
      "---  ------              --------------  -----  \n",
      " 0   sexo                454 non-null    object \n",
      " 1   idade               457 non-null    float64\n",
      " 2   divida              462 non-null    float64\n",
      " 3   casado              456 non-null    object \n",
      " 4   cliente_banco       456 non-null    object \n",
      " 5   educ_nivel          455 non-null    object \n",
      " 6   raça                455 non-null    object \n",
      " 7   anos_empregado      462 non-null    float64\n",
      " 8   divida_anterior     462 non-null    object \n",
      " 9   empregado           462 non-null    object \n",
      " 10  score               462 non-null    int64  \n",
      " 11  carteira_motorista  462 non-null    object \n",
      " 12  cidadania           462 non-null    object \n",
      " 13  zip                 450 non-null    object \n",
      " 14  renda               462 non-null    int64  \n",
      " 15  aprovado            462 non-null    object \n",
      "dtypes: float64(3), int64(2), object(11)\n",
      "memory usage: 61.4+ KB\n"
     ]
    }
   ],
   "source": [
    "# Antes de substituir os valores, devemos transformar os dados que são númericos mas estão com dtype object\n",
    "\n",
    "cc_apps_train.loc[:, 'idade'] = pd.to_numeric(cc_apps_train['idade'])\n",
    "cc_apps_test.loc[:, 'idade'] = pd.to_numeric(cc_apps_test['idade'])\n",
    "\n",
    "cc_apps_train.info()"
   ]
  },
  {
   "cell_type": "code",
   "execution_count": 12,
   "id": "ea849486",
   "metadata": {
    "scrolled": false
   },
   "outputs": [
    {
     "data": {
      "text/plain": [
       "sexo                   8\n",
       "idade                  0\n",
       "divida                 0\n",
       "casado                 6\n",
       "cliente_banco          6\n",
       "educ_nivel             7\n",
       "raça                   7\n",
       "anos_empregado         0\n",
       "divida_anterior        0\n",
       "empregado              0\n",
       "score                  0\n",
       "carteira_motorista     0\n",
       "cidadania              0\n",
       "zip                   12\n",
       "renda                  0\n",
       "aprovado               0\n",
       "dtype: int64"
      ]
     },
     "execution_count": 12,
     "metadata": {},
     "output_type": "execute_result"
    }
   ],
   "source": [
    "# Dados numéricos serão substituidos pela média na coluna\n",
    "cc_apps_train.mean()\n",
    "\n",
    "# Os dados de teste precisam ser substituidos pela média dos dados de treino, já que lá temos mais dados\n",
    "# e uma representação melhor da distribuição.\n",
    "cc_apps_train.fillna(cc_apps_train.mean(), inplace=True)\n",
    "cc_apps_test.fillna(cc_apps_train.mean(), inplace=True)\n",
    "\n",
    "cc_apps_train.isna().sum()\n",
    "\n",
    "# Todos os dados faltando preencher  são categoricos, e nossa estratégia deve ser outra, já que não da pra calcular a média\n",
    "# vamos calcular o valor mais comum em cada coluna e usar ele pra preencher os valores faltando"
   ]
  },
  {
   "cell_type": "code",
   "execution_count": 13,
   "id": "13f9ba32",
   "metadata": {
    "scrolled": false
   },
   "outputs": [
    {
     "name": "stdout",
     "output_type": "stream",
     "text": [
      "sexo                  0\n",
      "idade                 0\n",
      "divida                0\n",
      "casado                0\n",
      "cliente_banco         0\n",
      "educ_nivel            0\n",
      "raça                  0\n",
      "anos_empregado        0\n",
      "divida_anterior       0\n",
      "empregado             0\n",
      "score                 0\n",
      "carteira_motorista    0\n",
      "cidadania             0\n",
      "zip                   0\n",
      "renda                 0\n",
      "aprovado              0\n",
      "dtype: int64\n",
      "sexo                  0\n",
      "idade                 0\n",
      "divida                0\n",
      "casado                0\n",
      "cliente_banco         0\n",
      "educ_nivel            0\n",
      "raça                  0\n",
      "anos_empregado        0\n",
      "divida_anterior       0\n",
      "empregado             0\n",
      "score                 0\n",
      "carteira_motorista    0\n",
      "cidadania             0\n",
      "zip                   0\n",
      "renda                 0\n",
      "aprovado              0\n",
      "dtype: int64\n"
     ]
    }
   ],
   "source": [
    "# Iteramos por cada coluna, e se o tipo for object, substituimos valores faltando pelo valor mais comum usando value_counts\n",
    "for col in cc_apps_train:\n",
    "    if cc_apps_train[col].dtype == 'object':\n",
    "        # a cada ciclo vamos substituir os valores de uma coluna\n",
    "        # o resultado vai ser o dataframe inteiro onde SÓ AQUELA COLUNA não tem \n",
    "        # mais os valores vazios que tinha antes\n",
    "        cc_apps_train = cc_apps_train.fillna(cc_apps_train[col].value_counts().index[0])\n",
    "        cc_apps_test = cc_apps_test.fillna(cc_apps_train[col].value_counts().index[0])\n",
    "\n",
    "# verifica o resultado\n",
    "print(cc_apps_train.isna().sum())\n",
    "print(cc_apps_test.isna().sum())\n",
    "\n",
    "# Agora que  não temos mais valores faltando, podemos cuidar dos dados categoricos"
   ]
  },
  {
   "cell_type": "markdown",
   "id": "cf0fd06c",
   "metadata": {},
   "source": [
    "## 4. Análise Exploratória"
   ]
  },
  {
   "cell_type": "code",
   "execution_count": 242,
   "id": "b818defc",
   "metadata": {},
   "outputs": [
    {
     "data": {
      "image/png": "[encoded data removed]",
      "text/plain": [
       "<Figure size 432x288 with 1 Axes>"
      ]
     },
     "metadata": {},
     "output_type": "display_data"
    },
    {
     "data": {
      "text/plain": [
       "<AxesSubplot:xlabel='idade', ylabel='renda'>"
      ]
     },
     "execution_count": 242,
     "metadata": {},
     "output_type": "execute_result"
    },
    {
     "data": {
      "image/png": "[encoded data removed]",
      "text/plain": [
       "<Figure size 432x288 with 1 Axes>"
      ]
     },
     "metadata": {},
     "output_type": "display_data"
    }
   ],
   "source": [
    "# Antes de poder analisar os dados precisamos transformar os dados na coluna 'aprovado', substituindo '+' por 1 e '-' por 0\n",
    "cc_apps_train.loc[cc_apps_train['aprovado'] == '+', 'aprovado'] = 1\n",
    "cc_apps_train.loc[cc_apps_train['aprovado'] == '-', 'aprovado'] = 0\n",
    "\n",
    "cc_apps_train.plot(kind = 'scatter', x = 'idade', y = 'renda')\n",
    "plt.show()\n",
    "\n",
    "# Esse gráfico indica que temos um outliar de rendas próximo aos 20 anos, vamos remover esse valor para que ele não atrapalhe\n",
    "# as estatísticas e a vizualização dos dados\n",
    "\n",
    "cc_apps_novo = cc_apps_train[cc_apps_train['renda'] < 40000]\n",
    "cc_apps_novo.plot(kind = 'scatter', x = 'idade', y = 'renda')"
   ]
  },
  {
   "cell_type": "code",
   "execution_count": 254,
   "id": "135702fc",
   "metadata": {
    "scrolled": false
   },
   "outputs": [
    {
     "name": "stderr",
     "output_type": "stream",
     "text": [
      "C:\\Users\\fisicamedica.LIGA\\Anaconda3\\lib\\site-packages\\pandas\\core\\indexing.py:1676: SettingWithCopyWarning: \n",
      "A value is trying to be set on a copy of a slice from a DataFrame.\n",
      "Try using .loc[row_indexer,col_indexer] = value instead\n",
      "\n",
      "See the caveats in the documentation: https://pandas.pydata.org/pandas-docs/stable/user_guide/indexing.html#returning-a-view-versus-a-copy\n",
      "  self._setitem_single_column(ilocs[0], value, pi)\n"
     ]
    },
    {
     "data": {
      "image/png": "[encoded data removed]",
      "text/plain": [
       "<Figure size 1440x360 with 2 Axes>"
      ]
     },
     "metadata": {},
     "output_type": "display_data"
    }
   ],
   "source": [
    "# Criando uma coluna com categoria range de idade e depois calculando estatisticas agregadoras para\n",
    "# cada range.\n",
    "cc_apps_novo.loc[:,'range_idade'] = pd.cut(cc_apps_novo['idade'], [10,20,30,40,50,60,70,80])\n",
    "cc_apps_novo.loc[:,'aprovado'] = pd.to_numeric(cc_apps_novo['aprovado'])\n",
    "\n",
    "# Criando um data frame para armazenar o as estatísticas relacionadas ao intervalo de idades\n",
    "range_idade = pd.DataFrame()\n",
    "range_idade = cc_apps_novo.groupby('range_idade').mean('divida').reset_index()\n",
    "range_idade['numero_solicitacoes'] = cc_apps_novo.groupby('range_idade').count()['idade'].values\n",
    "range_idade.loc[:,'range_idade'] = ['10 a 20', '20 a 30', '30 a 40', '40 a 50', '50 a 60', '60 a 70', '70 a 80']\n",
    "\n",
    "# Relação entre entre a idade dos clientes e a divida que eles possuem\n",
    "sns.set_style(\"dark\")\n",
    "fig, ax = plt.subplots(1,2,figsize = (20,5))\n",
    "sns.pointplot(data = range_idade, x = 'range_idade', y = 'divida', ax = ax[0], color = 'r')\n",
    "ax[0].set_xlabel('Idade')\n",
    "ax[0].set_ylabel('Dívida')\n",
    "ax[0].set_title('Dívida Média', fontsize = 18)\n",
    "\n",
    "# Relação entre entre a idade dos clientes e a divida que eles possuem\n",
    "sns.pointplot(data = range_idade, x = 'range_idade', y = 'aprovado', ax = ax[1], color = 'b')\n",
    "ax[1].set_xlabel('Idade')\n",
    "ax[1].set_ylabel('Taxa aprovação')\n",
    "ax[1].set_title('Taxa de aprovação', fontsize = 18)\n",
    "\n",
    "\n",
    "plt.show()"
   ]
  },
  {
   "cell_type": "markdown",
   "id": "44845543",
   "metadata": {},
   "source": [
    "<font size = \"4\"><p>Podemos concluir a partir dos gráficos:<p>\n",
    "<li>Existe uma relação positiva entre a dívida e a idade, quanto mais velhas, mais endividadas as pessoas ficam\n",
    "<li>A taxa de aprovação do cartão de crédito aumenta com a idade. O que pode indicar uma relação entre a dívida e a taxa\n",
    "    de aprovação"
   ]
  },
  {
   "cell_type": "markdown",
   "id": "5ddecbc3",
   "metadata": {},
   "source": [
    "## Analisando como as variáveis numéricas se relacionam"
   ]
  },
  {
   "cell_type": "code",
   "execution_count": 299,
   "id": "0d9ea577",
   "metadata": {
    "scrolled": true
   },
   "outputs": [],
   "source": [
    "# Separando variáveis numéricas\n",
    "var_numericas = [col for col in cc_apps_train.columns if cc_apps_train[col].dtype == 'int64' \n",
    "                 or cc_apps_train[col].dtype == 'float']\n",
    "var_numericas.remove('aprovado')\n",
    "\n",
    "\n",
    "# Removendo outliers\n",
    "cc_apps_train = cc_apps_train[cc_apps_train['renda'] < 40000]\n",
    "cc_apps_train = cc_apps_train[cc_apps_train['score'] < 60]"
   ]
  },
  {
   "cell_type": "code",
   "execution_count": 330,
   "id": "ec69a343",
   "metadata": {},
   "outputs": [
    {
     "data": {
      "text/plain": [
       "aprovado\n",
       "0    2.25\n",
       "1    4.46\n",
       "Name: divida, dtype: float64"
      ]
     },
     "execution_count": 330,
     "metadata": {},
     "output_type": "execute_result"
    }
   ],
   "source": [
    "cc_apps_train.groupby('aprovado').median()['divida']"
   ]
  },
  {
   "cell_type": "code",
   "execution_count": 347,
   "id": "e2ad0daf",
   "metadata": {
    "scrolled": false
   },
   "outputs": [
    {
     "data": {
      "image/png": "[encoded data removed]",
      "text/plain": [
       "<Figure size 1080x360 with 3 Axes>"
      ]
     },
     "metadata": {},
     "output_type": "display_data"
    }
   ],
   "source": [
    "sns.set_style('whitegrid')\n",
    "fig, ax = plt.subplots(1,3, figsize = (15,5))\n",
    "\n",
    "sns.barplot(data = cc_apps_train, x = 'aprovado', y = 'divida', ax = ax[0], order = [1, 0])\n",
    "ax[0].set_xticklabels(['Aprovado', 'Reprovado'])\n",
    "ax[0].set_xlabel('')\n",
    "ax[0].axhline(cc_apps_train.groupby('aprovado').median()['divida'][1],ls = '--', color = 'black', label = 'Mediana Aprovado')\n",
    "ax[0].axhline(cc_apps_train.groupby('aprovado').median()['divida'][0],ls = '--', color = 'red', label = 'Mediana Reprovado')\n",
    "ax[0].legend()\n",
    "\n",
    "sns.barplot(data = cc_apps_train, x = 'aprovado', y = 'score', ax = ax[1], order = [1, 0])\n",
    "ax[1].set_xticklabels(['Aprovado', 'Reprovado'])\n",
    "ax[1].set_xlabel('')\n",
    "ax[1].axhline(cc_apps_train.groupby('aprovado').median()['score'][1],ls = '--', color = 'black', label = 'Mediana Aprovado')\n",
    "ax[1].axhline(cc_apps_train.groupby('aprovado').median()['score'][0],ls = '--', color = 'red', label = 'Mediana Reprovado')\n",
    "ax[1].legend()\n",
    "\n",
    "sns.barplot(data = cc_apps_train, x = 'aprovado', y = 'anos_empregado', ax = ax[2], order = [1, 0])\n",
    "ax[2].set_xticklabels(['Aprovado', 'Reprovado'])\n",
    "ax[2].set_xlabel('')\n",
    "ax[2].axhline(cc_apps_train.groupby('aprovado').median()['anos_empregado'][1],ls = '--', color = 'black', label = 'Mediana Aprovado')\n",
    "ax[2].axhline(cc_apps_train.groupby('aprovado').median()['anos_empregado'][0],ls = '--', color = 'red', label = 'Mediana Reprovado')\n",
    "ax[2].legend()\n",
    "\n",
    "\n",
    "\n",
    "plt.show()"
   ]
  },
  {
   "cell_type": "markdown",
   "id": "7257a7ef",
   "metadata": {},
   "source": [
    "<font size = \"3\"><p> Pelos gráficos podemos observar que as médias de dívida, score e anos empregados são maiores para clientes que tiveram a solicitação aprovada. Os valores das medianas indicam que existem valores \"puxando\" a média para cima, mas nada que discarte a relação geral apresentada no gráfico.<p>\n",
    "<p>Podemos concluir a partir dos gráficos: <p>\n",
    "<li> Clientes com divida maior têm maior probabilidade de ter a solicitação de cartão de crédito aprovada\n",
    "<li> Existe uma grande diferença no score entre os clientes que tiveram a solicitação aprovada e os que não tiveram, aqueles com maior score têm probabilidade maior de ter a solicitação aprovada\n",
    "<li> Clientes que estão empregados a mais tempo têm mais chance de ter a solicitação aprovada\n"
   ]
  },
  {
   "cell_type": "code",
   "execution_count": 382,
   "id": "97f45846",
   "metadata": {
    "scrolled": true
   },
   "outputs": [
    {
     "data": {
      "text/plain": [
       "<matplotlib.legend.Legend at 0x14264d68af0>"
      ]
     },
     "execution_count": 382,
     "metadata": {},
     "output_type": "execute_result"
    },
    {
     "data": {
      "image/png": "[encoded data removed]",
      "text/plain": [
       "<Figure size 1440x360 with 3 Axes>"
      ]
     },
     "metadata": {},
     "output_type": "display_data"
    }
   ],
   "source": [
    "sns.set_style('whitegrid')\n",
    "fig, ax = plt.subplots(1,3,figsize = (20,5))\n",
    "\n",
    "sns.kdeplot(data = cc_apps_train, x = 'score', ax = ax[0], hue = 'aprovado', legend = False,\n",
    "            cumulative=True, \n",
    "            common_norm=False,\n",
    "            common_grid=False)\n",
    "ax[0].legend(title='Status', loc='upper right', labels=['Aprovado', 'Reprovado'])\n",
    "\n",
    "\n",
    "sns.kdeplot(data = cc_apps_train, x = 'anos_empregado', ax = ax[1], hue = 'aprovado', legend = False,\n",
    "            cumulative=True, \n",
    "            common_norm=False,\n",
    "            common_grid=False)\n",
    "ax[1].legend(title='Status', loc='upper right', labels=['Aprovado', 'Reprovado'])\n",
    "\n",
    "\n",
    "sns.kdeplot(data = cc_apps_train, x = 'divida', ax = ax[2], hue = 'aprovado', legend = False, \n",
    "            cumulative=True, \n",
    "            common_norm=False,\n",
    "            common_grid=False)\n",
    "ax[2].legend(title='Status', loc='upper right', labels=['Aprovado', 'Reprovado'])\n"
   ]
  },
  {
   "cell_type": "markdown",
   "id": "15c4081e",
   "metadata": {},
   "source": [
    "### Os gráficos acima são CDF, distribuição de densidade cumulativas.  A densidade representa a razão dos valores que estão abaixo de determinado valor no eixo x. "
   ]
  },
  {
   "cell_type": "markdown",
   "id": "4b1186a4",
   "metadata": {},
   "source": [
    "## 5. Pré Processamento dos dados\n",
    "<p> Agora, antes de alimentar o modelo de machine learning com os dados, precisamos codificar os dados categóricos, de forma\n",
    " que eles sejam lidos mais facilmente pelo algoritmo e normalizar os valores, para que colunas diferentes não tenha uma faixa muito diferente de valores <p>"
   ]
  },
  {
   "cell_type": "code",
   "execution_count": 18,
   "id": "72819eba",
   "metadata": {},
   "outputs": [],
   "source": [
    "# Convertemos os dados categoricos em numérico. Como estamos convertendo os dados de treino e de teste separadamente\n",
    "# Nesse método, cada categoria terá uma coluna a representando. Dessa forma precisamos garantir que os dados de teste\n",
    "# e de treino tenham a mesma coluna, caso exista alguma categoria nos dados de treino que não estão nos dados de teste\n",
    "\n",
    "cc_apps_train_ml = pd.get_dummies(cc_apps_train)\n",
    "cc_apps_test_ml = pd.get_dummies(cc_apps_test)\n",
    "\n",
    "# Reindex the columns of the test set aligning with the train set, se uma categoria não estiver presente, a coluna toda será\n",
    "# preenchidas com 0.\n",
    "cc_apps_test_ml = cc_apps_test_ml.reindex(columns= cc_apps_train_ml.columns, fill_value=0)"
   ]
  },
  {
   "cell_type": "code",
   "execution_count": 19,
   "id": "38630537",
   "metadata": {},
   "outputs": [],
   "source": [
    "# Normalizando os dados\n",
    "from sklearn.preprocessing import MinMaxScaler\n",
    "\n",
    "# Separando atributos e a saída em arrays diferentes\n",
    "# também transformamos os dados em np.arrays\n",
    "X_train, y_train = cc_apps_train_ml.iloc[:,:-1].values, cc_apps_train_ml.iloc[:,[-1]].values\n",
    "X_test, y_test = cc_apps_test_ml.iloc[:,:-1].values, cc_apps_test_ml.iloc[:,[-1]].values\n",
    "\n",
    "# Usamos fit_transform para dados de treinos e transform para os dados de teste. \n",
    "# O transform nos dados de treino é necessário para que a gente use os mesmos parámetros usados\n",
    "scaler = MinMaxScaler(feature_range = (0,1))\n",
    "rescaledX_train = scaler.fit_transform(X_train)\n",
    "rescaledX_test = scaler.transform(X_test)"
   ]
  },
  {
   "cell_type": "markdown",
   "id": "4b174275",
   "metadata": {},
   "source": [
    "## 5. Aplicando o modelo de regressão logistica\n",
    "<p> Nosso objetivo é prever se um dado cliente terá sua solicitação aprovada ou não, ou melhor, decidir se determinado cliente deve ter a solicitação aprovada, de acordo com os padrões dos dados fornecidos.<p>\n",
    "<p> Sendo assim, temos um problema de classificação, onde cada cliente será classificado como aprovado (1) ou não aprovado (0)<p>\n",
    "<p> O modelo de regressão logistica calcula a probabilidade de uma certa medida ser atribuida a uma classe. O nosso modelo \n",
    "atribuirá àquela medida a classe que possuir maior probabilidade.<p>"
   ]
  },
  {
   "cell_type": "code",
   "execution_count": 20,
   "id": "9f618bc1",
   "metadata": {},
   "outputs": [
    {
     "data": {
      "text/plain": [
       "LogisticRegression()"
      ]
     },
     "execution_count": 20,
     "metadata": {},
     "output_type": "execute_result"
    }
   ],
   "source": [
    "from sklearn.linear_model import LogisticRegression\n",
    "\n",
    "logreg = LogisticRegression()\n",
    "\n",
    "logreg.fit(rescaledX_train, y_train.ravel())"
   ]
  },
  {
   "cell_type": "code",
   "execution_count": 21,
   "id": "10a1b814",
   "metadata": {},
   "outputs": [
    {
     "name": "stdout",
     "output_type": "stream",
     "text": [
      "Acurácia do modelo::  0.0\n",
      "[[  0 228]\n",
      " [  0   0]]\n"
     ]
    }
   ],
   "source": [
    "from sklearn.metrics import confusion_matrix\n",
    "\n",
    "y_pred = logreg.predict(rescaledX_test)\n",
    "\n",
    "print(\"Acurácia do modelo:: \", logreg.score(rescaledX_test, y_test))\n",
    "\n",
    "# A primeira linha são os Positivos verdadeiros e falsos positivos\n",
    "# a segunda linha os falsos negativos e negativos positivos\n",
    "print(confusion_matrix(y_test, y_pred))"
   ]
  },
  {
   "cell_type": "code",
   "execution_count": null,
   "id": "864cafb9",
   "metadata": {},
   "outputs": [],
   "source": []
  }
 ],
 "metadata": {
  "kernelspec": {
   "display_name": "Python 3",
   "language": "python",
   "name": "python3"
  },
  "language_info": {
   "codemirror_mode": {
    "name": "ipython",
    "version": 3
   },
   "file_extension": ".py",
   "mimetype": "text/x-python",
   "name": "python",
   "nbconvert_exporter": "python",
   "pygments_lexer": "ipython3",
   "version": "3.8.8"
  }
 },
 "nbformat": 4,
 "nbformat_minor": 5
}
